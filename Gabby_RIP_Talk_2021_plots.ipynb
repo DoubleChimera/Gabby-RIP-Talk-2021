{
 "cells": [
  {
   "cell_type": "markdown",
   "metadata": {},
   "source": [
    "# This notebook takes post-processed flika-JSON data and plots it"
   ]
  },
  {
   "cell_type": "code",
   "execution_count": null,
   "metadata": {},
   "outputs": [
    {
     "ename": "Error",
     "evalue": "Session cannot generate requests",
     "output_type": "error",
     "traceback": [
      "Error: Session cannot generate requests",
      "at w.executeCodeCell (/home/vivek/.vscode-insiders/extensions/ms-toolsai.jupyter-2021.6.863311888/out/client/extension.js:90:326874)",
      "at w.execute (/home/vivek/.vscode-insiders/extensions/ms-toolsai.jupyter-2021.6.863311888/out/client/extension.js:90:326263)",
      "at w.start (/home/vivek/.vscode-insiders/extensions/ms-toolsai.jupyter-2021.6.863311888/out/client/extension.js:90:322168)",
      "at runMicrotasks (<anonymous>)",
      "at processTicksAndRejections (internal/process/task_queues.js:93:5)",
      "at async t.CellExecutionQueue.executeQueuedCells (/home/vivek/.vscode-insiders/extensions/ms-toolsai.jupyter-2021.6.863311888/out/client/extension.js:90:336476)",
      "at async t.CellExecutionQueue.start (/home/vivek/.vscode-insiders/extensions/ms-toolsai.jupyter-2021.6.863311888/out/client/extension.js:90:336016)"
     ]
    }
   ],
   "source": [
    "# Import Libraries\n",
    "import numpy as np\n",
    "import pandas as pd\n",
    "import matplotlib.pyplot as plt\n",
    "import seaborn as sb\n",
    "\n",
    "from pathlib import Path"
   ]
  },
  {
   "cell_type": "markdown",
   "metadata": {},
   "source": [
    "# Plot 1: Track Length Distributions"
   ]
  },
  {
   "cell_type": "code",
   "execution_count": null,
   "metadata": {},
   "outputs": [
    {
     "ename": "Error",
     "evalue": "Session cannot generate requests",
     "output_type": "error",
     "traceback": [
      "Error: Session cannot generate requests",
      "at w.executeCodeCell (/home/vivek/.vscode-insiders/extensions/ms-toolsai.jupyter-2021.6.863311888/out/client/extension.js:90:326874)",
      "at w.execute (/home/vivek/.vscode-insiders/extensions/ms-toolsai.jupyter-2021.6.863311888/out/client/extension.js:90:326263)",
      "at w.start (/home/vivek/.vscode-insiders/extensions/ms-toolsai.jupyter-2021.6.863311888/out/client/extension.js:90:322168)",
      "at runMicrotasks (<anonymous>)",
      "at processTicksAndRejections (internal/process/task_queues.js:93:5)",
      "at async t.CellExecutionQueue.executeQueuedCells (/home/vivek/.vscode-insiders/extensions/ms-toolsai.jupyter-2021.6.863311888/out/client/extension.js:90:336476)",
      "at async t.CellExecutionQueue.start (/home/vivek/.vscode-insiders/extensions/ms-toolsai.jupyter-2021.6.863311888/out/client/extension.js:90:336016)"
     ]
    }
   ],
   "source": [
    "# Load Track Length Data\n",
    "trackLength_input_dir = '.'\n",
    "trackLength_input_filename = 'Gabby_RIP_Talk_2021_data_tdT_v_ht_trajLengths.csv'\n",
    "trackLengths = pd.read_csv((Path(trackLength_input_dir) / trackLength_input_filename), sep=',')"
   ]
  },
  {
   "cell_type": "code",
   "execution_count": null,
   "metadata": {},
   "outputs": [
    {
     "ename": "Error",
     "evalue": "Session cannot generate requests",
     "output_type": "error",
     "traceback": [
      "Error: Session cannot generate requests",
      "at w.executeCodeCell (/home/vivek/.vscode-insiders/extensions/ms-toolsai.jupyter-2021.6.863311888/out/client/extension.js:90:326874)",
      "at w.execute (/home/vivek/.vscode-insiders/extensions/ms-toolsai.jupyter-2021.6.863311888/out/client/extension.js:90:326263)",
      "at w.start (/home/vivek/.vscode-insiders/extensions/ms-toolsai.jupyter-2021.6.863311888/out/client/extension.js:90:322168)",
      "at runMicrotasks (<anonymous>)",
      "at processTicksAndRejections (internal/process/task_queues.js:93:5)",
      "at async t.CellExecutionQueue.executeQueuedCells (/home/vivek/.vscode-insiders/extensions/ms-toolsai.jupyter-2021.6.863311888/out/client/extension.js:90:336476)",
      "at async t.CellExecutionQueue.start (/home/vivek/.vscode-insiders/extensions/ms-toolsai.jupyter-2021.6.863311888/out/client/extension.js:90:336016)"
     ]
    }
   ],
   "source": [
    "# Plot distributions of tdTomato vs Halo Tag (Histogram, Violin Plot, )\n",
    "fig1  = plt.figure(1)\n",
    "\n",
    "ax1 = plt.subplot(131)\n",
    "bins = np.arange(200, 1250, 100)\n",
    "sb.histplot(trackLengths, x='Length', hue='Tag', bins=bins, stat='count', ax=ax1)\n",
    "\n",
    "ax2 = plt.subplot(132)\n",
    "sb.histplot(x=trackLengths.loc[trackLengths['Tag'] == 'tdTomato']['Length'], \n",
    "            bins=bins, line_kws={'color':'k'}, stat='density', alpha=0.5,\n",
    "            color='C0', ax=ax2)\n",
    "sb.histplot(x=trackLengths.loc[trackLengths['Tag'] == 'Halo']['Length'], \n",
    "            bins=bins, line_kws={'color':'k'}, stat='density', alpha=0.5,\n",
    "            color='C1', ax=ax2)\n",
    "\n",
    "ax3 = plt.subplot(133)\n",
    "sb.violinplot(data=trackLengths, x='Tag', y='Length', saturation=0.75)\n",
    "plt.setp(ax3.collections, alpha=.5)\n",
    "\n",
    "plt.show()"
   ]
  },
  {
   "cell_type": "code",
   "execution_count": null,
   "metadata": {},
   "outputs": [],
   "source": []
  }
 ],
 "metadata": {
  "interpreter": {
   "hash": "b587b21a5dd0b0df0e80eb09ba8b9ba5638e212bd758027fb8f22b48d7d6006b"
  },
  "kernelspec": {
   "display_name": "Python 3.9.2 64-bit ('piezo1_ML': conda)",
   "name": "python3"
  },
  "language_info": {
   "name": "python",
   "version": ""
  },
  "orig_nbformat": 2
 },
 "nbformat": 4,
 "nbformat_minor": 2
}