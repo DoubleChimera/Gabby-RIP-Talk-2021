{
 "cells": [
  {
   "cell_type": "markdown",
   "metadata": {},
   "source": [
    "# This notebook takes post-processed flika-JSON data and plots it"
   ]
  },
  {
   "cell_type": "code",
   "execution_count": null,
   "metadata": {},
   "outputs": [],
   "source": []
  }
 ],
 "metadata": {
  "interpreter": {
   "hash": "b587b21a5dd0b0df0e80eb09ba8b9ba5638e212bd758027fb8f22b48d7d6006b"
  },
  "kernelspec": {
   "display_name": "Python 3.9.2 64-bit ('piezo1_ML': conda)",
   "name": "python3"
  },
  "language_info": {
   "name": "python",
   "version": ""
  },
  "orig_nbformat": 2
 },
 "nbformat": 4,
 "nbformat_minor": 2
}