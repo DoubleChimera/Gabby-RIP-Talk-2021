{
 "cells": [
  {
   "cell_type": "markdown",
   "metadata": {},
   "source": [
    "# This notebook prepares the raw data for plotting.\n",
    "## First we load the data\n",
    "## Then we process the data\n",
    "## Finally we output the processed data as a .csv that can be uploaded to Github."
   ]
  },
  {
   "cell_type": "code",
   "execution_count": 1,
   "metadata": {},
   "outputs": [],
   "source": [
    "# Import libraries\n",
    "import flika_JSON_IO as flikaIO\n",
    "import numpy as np\n",
    "import pandas as pd\n",
    "\n",
    "from pathlib import Path"
   ]
  },
  {
   "cell_type": "code",
   "execution_count": 9,
   "metadata": {},
   "outputs": [],
   "source": [
    "# Configure display\n",
    "pd.set_option('display.max_colwidth', 75)"
   ]
  },
  {
   "cell_type": "markdown",
   "metadata": {},
   "source": [
    "<h2> Step 1: Load the data </h2>"
   ]
  },
  {
   "cell_type": "code",
   "execution_count": 2,
   "metadata": {},
   "outputs": [],
   "source": [
    "# Generate list of filepaths and filenames for tdTomato mNSPCs\n",
    "tdT_mNSPC_directory = '/home/vivek/Documents/Python Programs/Piezo1_Datasets/Gabby_RIP_Talk_2021_Datasets/Analyzed_Tracks_tdt_mNSPC/AL_40_42_43_44_JSONs/'\n",
    "tdT_mNSPC_path_object = Path(tdT_mNSPC_directory).glob(\"*.json\")\n",
    "tdT_mNSPC_JSON_filepaths = sorted([x for x in tdT_mNSPC_path_object if x.is_file()])\n",
    "tdT_mNSPC_JSON_filenames = [x.stem for x in tdT_mNSPC_JSON_filepaths]\n",
    "# Generate data frame of trajectories\n",
    "tdT_mNSPC_trajs = flikaIO.json_to_pandas(tdT_mNSPC_JSON_filepaths, tdT_mNSPC_JSON_filenames, 200)\n",
    "tdT_mNSPC_trajs.Frame = tdT_mNSPC_trajs.Frame.astype('int')"
   ]
  },
  {
   "cell_type": "code",
   "execution_count": 3,
   "metadata": {},
   "outputs": [],
   "source": [
    "# Generate list of filepaths and filenames for halo tag NSC\n",
    "ht_NSC_directory = '/home/vivek/Documents/Python Programs/Piezo1_Datasets/Gabby_RIP_Talk_2021_Datasets/Analyzed_Tracks_ht_NSC/'\n",
    "ht_NSC_path_object = Path(ht_NSC_directory).glob(\"*.json\")\n",
    "ht_NSC_JSON_filepaths = sorted([x for x in ht_NSC_path_object if x.is_file()])\n",
    "ht_NSC_JSON_filenames = [x.stem for x in ht_NSC_JSON_filepaths]\n",
    "# Generate data frame of trajectories\n",
    "ht_NSC_trajs = flikaIO.json_to_pandas(ht_NSC_JSON_filepaths, ht_NSC_JSON_filenames, 200)"
   ]
  },
  {
   "cell_type": "markdown",
   "metadata": {},
   "source": [
    "<h2> Step 2: Process the data </h2>"
   ]
  },
  {
   "cell_type": "code",
   "execution_count": 62,
   "metadata": {},
   "outputs": [],
   "source": [
    "# Length of trajectories\n",
    "def traj_length(df):\n",
    "    lengths = []\n",
    "    exp_names = []\n",
    "    trackIDs = []\n",
    "    for eachID in df.ID.unique():\n",
    "        length = len(df.loc[df['ID'] == eachID])\n",
    "        lengths.append(length)\n",
    "        exp_name = str(df.loc[df['ID'] == eachID]['Exp_Name'].iloc[0])\n",
    "        exp_names.append(exp_name)\n",
    "        trackIDs.append(eachID)\n",
    "    df = pd.DataFrame({'Exp_Name':exp_names, 'ID':trackIDs, 'Length':lengths})\n",
    "    return df"
   ]
  },
  {
   "cell_type": "code",
   "execution_count": 64,
   "metadata": {},
   "outputs": [],
   "source": [
    "tdT_MNSPC_trajLengths = traj_length(tdT_mNSPC_trajs)\n",
    "tdT_MNSPC_trajLengths.insert(1, 'Tag', 'tdTomato')\n",
    "tdT_MNSPC_trajLengths.insert(1, 'Cell_Type', 'mNSPC')\n",
    "\n",
    "ht_NSC_trajLengths = traj_length(ht_NSC_trajs)\n",
    "ht_NSC_trajLengths.insert(1, 'Tag', 'Halo')\n",
    "ht_NSC_trajLengths.insert(1, 'Cell_Type', 'NSC')"
   ]
  },
  {
   "cell_type": "markdown",
   "metadata": {},
   "source": [
    "<h2> Step 3: Output the processed data </h2>"
   ]
  },
  {
   "cell_type": "code",
   "execution_count": 70,
   "metadata": {},
   "outputs": [],
   "source": [
    "# Combine data into a single dataframe\n",
    "combined_df = pd.concat([tdT_MNSPC_trajLengths, ht_NSC_trajLengths])"
   ]
  },
  {
   "cell_type": "code",
   "execution_count": 71,
   "metadata": {},
   "outputs": [],
   "source": [
    "# Output the data\n",
    "output_dir = '/home/vivek/Documents/Python Programs/Gabby-RIP-Talk-2021/'\n",
    "output_filename = 'Gabby_RIP_Talk_2021_data_tdT_v_ht_trajLengths.csv'\n",
    "combined_df.to_csv((Path(output_dir) / output_filename), sep=',', index=False)"
   ]
  }
 ],
 "metadata": {
  "interpreter": {
   "hash": "b587b21a5dd0b0df0e80eb09ba8b9ba5638e212bd758027fb8f22b48d7d6006b"
  },
  "kernelspec": {
   "display_name": "Python 3.9.2 64-bit ('piezo1_ML': conda)",
   "name": "python3"
  },
  "language_info": {
   "name": "python",
   "version": ""
  },
  "orig_nbformat": 2
 },
 "nbformat": 4,
 "nbformat_minor": 2
}