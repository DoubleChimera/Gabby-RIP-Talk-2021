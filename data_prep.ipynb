{
 "cells": [
  {
   "cell_type": "markdown",
   "metadata": {},
   "source": [
    "# This notebook prepares the raw data for plotting.\n",
    "## First we load the data\n",
    "## Then we process the data\n",
    "## Finally we output the processed data as a .csv that can be uploaded to Github."
   ]
  },
  {
   "cell_type": "code",
   "execution_count": 4,
   "metadata": {},
   "outputs": [],
   "source": [
    "# Import libraries\n",
    "import flika_JSON_IO as flikaIO\n",
    "import numpy as np\n",
    "import pandas as pd\n",
    "\n",
    "from pathlib import Path"
   ]
  },
  {
   "cell_type": "code",
   "execution_count": 5,
   "metadata": {},
   "outputs": [],
   "source": [
    "# Configure display\n",
    "pd.set_option('display.max_colwidth', 75)"
   ]
  },
  {
   "cell_type": "markdown",
   "metadata": {},
   "source": [
    "<h2> Step 1: Load the data </h2>"
   ]
  },
  {
   "cell_type": "code",
   "execution_count": 6,
   "metadata": {},
   "outputs": [
    {
     "ename": "ValueError",
     "evalue": "need at least one array to concatenate",
     "output_type": "error",
     "traceback": [
      "\u001b[0;31m---------------------------------------------------------------------------\u001b[0m",
      "\u001b[0;31mValueError\u001b[0m                                Traceback (most recent call last)",
      "\u001b[0;32m<ipython-input-6-d995aa997e86>\u001b[0m in \u001b[0;36m<module>\u001b[0;34m\u001b[0m\n\u001b[1;32m      5\u001b[0m \u001b[0mtdT_mNSPC_JSON_filenames\u001b[0m \u001b[0;34m=\u001b[0m \u001b[0;34m[\u001b[0m\u001b[0mx\u001b[0m\u001b[0;34m.\u001b[0m\u001b[0mstem\u001b[0m \u001b[0;32mfor\u001b[0m \u001b[0mx\u001b[0m \u001b[0;32min\u001b[0m \u001b[0mtdT_mNSPC_JSON_filepaths\u001b[0m\u001b[0;34m]\u001b[0m\u001b[0;34m\u001b[0m\u001b[0;34m\u001b[0m\u001b[0m\n\u001b[1;32m      6\u001b[0m \u001b[0;31m# Generate data frame of trajectories\u001b[0m\u001b[0;34m\u001b[0m\u001b[0;34m\u001b[0m\u001b[0;34m\u001b[0m\u001b[0m\n\u001b[0;32m----> 7\u001b[0;31m \u001b[0mtdT_mNSPC_trajs\u001b[0m \u001b[0;34m=\u001b[0m \u001b[0mflikaIO\u001b[0m\u001b[0;34m.\u001b[0m\u001b[0mjson_to_pandas\u001b[0m\u001b[0;34m(\u001b[0m\u001b[0mtdT_mNSPC_JSON_filepaths\u001b[0m\u001b[0;34m,\u001b[0m \u001b[0mtdT_mNSPC_JSON_filenames\u001b[0m\u001b[0;34m,\u001b[0m \u001b[0;36m200\u001b[0m\u001b[0;34m)\u001b[0m\u001b[0;34m\u001b[0m\u001b[0;34m\u001b[0m\u001b[0m\n\u001b[0m\u001b[1;32m      8\u001b[0m \u001b[0mtdT_mNSPC_trajs\u001b[0m\u001b[0;34m.\u001b[0m\u001b[0mFrame\u001b[0m \u001b[0;34m=\u001b[0m \u001b[0mtdT_mNSPC_trajs\u001b[0m\u001b[0;34m.\u001b[0m\u001b[0mFrame\u001b[0m\u001b[0;34m.\u001b[0m\u001b[0mastype\u001b[0m\u001b[0;34m(\u001b[0m\u001b[0;34m'int'\u001b[0m\u001b[0;34m)\u001b[0m\u001b[0;34m\u001b[0m\u001b[0;34m\u001b[0m\u001b[0m\n",
      "\u001b[0;32m~/Documents/Python Programs/Gabby-RIP-Talk-2021/flika_JSON_IO.py\u001b[0m in \u001b[0;36mjson_to_pandas\u001b[0;34m(filename, experiment_name, minfrm)\u001b[0m\n\u001b[1;32m    155\u001b[0m                 \u001b[0mtrack_array\u001b[0m\u001b[0;34m.\u001b[0m\u001b[0mappend\u001b[0m\u001b[0;34m(\u001b[0m\u001b[0mtrack_df\u001b[0m\u001b[0;34m.\u001b[0m\u001b[0mvalues\u001b[0m\u001b[0;34m)\u001b[0m\u001b[0;34m\u001b[0m\u001b[0;34m\u001b[0m\u001b[0m\n\u001b[1;32m    156\u001b[0m                 \u001b[0mtrackID\u001b[0m \u001b[0;34m+=\u001b[0m \u001b[0;36m1\u001b[0m\u001b[0;34m\u001b[0m\u001b[0;34m\u001b[0m\u001b[0m\n\u001b[0;32m--> 157\u001b[0;31m         \u001b[0mcombined_tracks\u001b[0m \u001b[0;34m=\u001b[0m \u001b[0mnp\u001b[0m\u001b[0;34m.\u001b[0m\u001b[0mvstack\u001b[0m\u001b[0;34m(\u001b[0m\u001b[0mtrack_array\u001b[0m\u001b[0;34m)\u001b[0m\u001b[0;34m\u001b[0m\u001b[0;34m\u001b[0m\u001b[0m\n\u001b[0m\u001b[1;32m    158\u001b[0m         \u001b[0mfinalTracks_df\u001b[0m \u001b[0;34m=\u001b[0m \u001b[0mpd\u001b[0m\u001b[0;34m.\u001b[0m\u001b[0mDataFrame\u001b[0m\u001b[0;34m(\u001b[0m\u001b[0mcombined_tracks\u001b[0m\u001b[0;34m)\u001b[0m\u001b[0;34m\u001b[0m\u001b[0;34m\u001b[0m\u001b[0m\n\u001b[1;32m    159\u001b[0m         \u001b[0mfinalTracks_df\u001b[0m\u001b[0;34m.\u001b[0m\u001b[0mcolumns\u001b[0m \u001b[0;34m=\u001b[0m \u001b[0;34m[\u001b[0m\u001b[0;34m'Frame'\u001b[0m\u001b[0;34m,\u001b[0m \u001b[0;34m'X'\u001b[0m\u001b[0;34m,\u001b[0m \u001b[0;34m'Y'\u001b[0m\u001b[0;34m,\u001b[0m \u001b[0;34m'ID'\u001b[0m\u001b[0;34m,\u001b[0m \u001b[0;34m'Exp_Name'\u001b[0m\u001b[0;34m]\u001b[0m\u001b[0;34m\u001b[0m\u001b[0;34m\u001b[0m\u001b[0m\n",
      "\u001b[0;32m<__array_function__ internals>\u001b[0m in \u001b[0;36mvstack\u001b[0;34m(*args, **kwargs)\u001b[0m\n",
      "\u001b[0;32m~/anaconda3/envs/piezo1_ML/lib/python3.9/site-packages/numpy/core/shape_base.py\u001b[0m in \u001b[0;36mvstack\u001b[0;34m(tup)\u001b[0m\n\u001b[1;32m    281\u001b[0m     \u001b[0;32mif\u001b[0m \u001b[0;32mnot\u001b[0m \u001b[0misinstance\u001b[0m\u001b[0;34m(\u001b[0m\u001b[0marrs\u001b[0m\u001b[0;34m,\u001b[0m \u001b[0mlist\u001b[0m\u001b[0;34m)\u001b[0m\u001b[0;34m:\u001b[0m\u001b[0;34m\u001b[0m\u001b[0;34m\u001b[0m\u001b[0m\n\u001b[1;32m    282\u001b[0m         \u001b[0marrs\u001b[0m \u001b[0;34m=\u001b[0m \u001b[0;34m[\u001b[0m\u001b[0marrs\u001b[0m\u001b[0;34m]\u001b[0m\u001b[0;34m\u001b[0m\u001b[0;34m\u001b[0m\u001b[0m\n\u001b[0;32m--> 283\u001b[0;31m     \u001b[0;32mreturn\u001b[0m \u001b[0m_nx\u001b[0m\u001b[0;34m.\u001b[0m\u001b[0mconcatenate\u001b[0m\u001b[0;34m(\u001b[0m\u001b[0marrs\u001b[0m\u001b[0;34m,\u001b[0m \u001b[0;36m0\u001b[0m\u001b[0;34m)\u001b[0m\u001b[0;34m\u001b[0m\u001b[0;34m\u001b[0m\u001b[0m\n\u001b[0m\u001b[1;32m    284\u001b[0m \u001b[0;34m\u001b[0m\u001b[0m\n\u001b[1;32m    285\u001b[0m \u001b[0;34m\u001b[0m\u001b[0m\n",
      "\u001b[0;32m<__array_function__ internals>\u001b[0m in \u001b[0;36mconcatenate\u001b[0;34m(*args, **kwargs)\u001b[0m\n",
      "\u001b[0;31mValueError\u001b[0m: need at least one array to concatenate"
     ]
    }
   ],
   "source": [
    "# Generate list of filepaths and filenames for tdTomato mNSPCs\n",
    "tdT_mNSPC_directory = '/home/vivek/Documents/Python Programs/Piezo1_Datasets/Gabby_RIP_Talk_2021_Datasets/Analyzed_Tracks_tdt_mNSPC/AL_40_42_43_44_JSONs/'\n",
    "tdT_mNSPC_path_object = Path(tdT_mNSPC_directory).glob(\"*.json\")\n",
    "tdT_mNSPC_JSON_filepaths = sorted([x for x in tdT_mNSPC_path_object if x.is_file()])\n",
    "tdT_mNSPC_JSON_filenames = [x.stem for x in tdT_mNSPC_JSON_filepaths]\n",
    "# Generate data frame of trajectories\n",
    "tdT_mNSPC_trajs = flikaIO.json_to_pandas(tdT_mNSPC_JSON_filepaths, tdT_mNSPC_JSON_filenames, 200)\n",
    "tdT_mNSPC_trajs.Frame = tdT_mNSPC_trajs.Frame.astype('int')"
   ]
  },
  {
   "cell_type": "code",
   "execution_count": 3,
   "metadata": {},
   "outputs": [],
   "source": [
    "# Generate list of filepaths and filenames for halo tag NSC\n",
    "ht_NSC_directory = '/home/vivek/Documents/Python Programs/Piezo1_Datasets/Gabby_RIP_Talk_2021_Datasets/Analyzed_Tracks_ht_NSC/'\n",
    "ht_NSC_path_object = Path(ht_NSC_directory).glob(\"*.json\")\n",
    "ht_NSC_JSON_filepaths = sorted([x for x in ht_NSC_path_object if x.is_file()])\n",
    "ht_NSC_JSON_filenames = [x.stem for x in ht_NSC_JSON_filepaths]\n",
    "# Generate data frame of trajectories\n",
    "ht_NSC_trajs = flikaIO.json_to_pandas(ht_NSC_JSON_filepaths, ht_NSC_JSON_filenames, 200)"
   ]
  },
  {
   "cell_type": "markdown",
   "metadata": {},
   "source": [
    "<h2> Step 2: Process the data </h2>"
   ]
  },
  {
   "cell_type": "code",
   "execution_count": 74,
   "metadata": {},
   "outputs": [],
   "source": [
    "# Length of trajectories\n",
    "def traj_length(df):\n",
    "    lengths = []\n",
    "    exp_names = []\n",
    "    trackIDs = []\n",
    "    for eachID in df.ID.unique():\n",
    "        length = len(df.loc[df['ID'] == eachID])\n",
    "        lengths.append(length)\n",
    "        exp_name = str(df.loc[df['ID'] == eachID]['Exp_Name'].iloc[0])\n",
    "        exp_names.append(exp_name)\n",
    "        trackIDs.append(eachID)\n",
    "    df = pd.DataFrame({'Exp_Name':exp_names, 'ID':trackIDs, 'Length':lengths})\n",
    "    return df"
   ]
  },
  {
   "cell_type": "code",
   "execution_count": 75,
   "metadata": {},
   "outputs": [],
   "source": [
    "tdT_MNSPC_trajLengths = traj_length(tdT_mNSPC_trajs)\n",
    "tdT_MNSPC_trajLengths = tdT_MNSPC_trajLengths.loc[tdT_MNSPC_trajLengths['Length'] <= 580]\n",
    "tdT_MNSPC_trajLengths.insert(1, 'Tag', 'tdTomato')\n",
    "tdT_MNSPC_trajLengths.insert(1, 'Cell_Type', 'mNSPC')\n",
    "\n",
    "ht_NSC_trajLengths = traj_length(ht_NSC_trajs)\n",
    "ht_NSC_trajLengths = ht_NSC_trajLengths.loc[ht_NSC_trajLengths['Length'] <= 1180]\n",
    "ht_NSC_trajLengths.insert(1, 'Tag', 'Halo')\n",
    "ht_NSC_trajLengths.insert(1, 'Cell_Type', 'NSC')"
   ]
  },
  {
   "cell_type": "code",
   "execution_count": 76,
   "metadata": {},
   "outputs": [
    {
     "data": {
      "text/html": "<div>\n<style scoped>\n    .dataframe tbody tr th:only-of-type {\n        vertical-align: middle;\n    }\n\n    .dataframe tbody tr th {\n        vertical-align: top;\n    }\n\n    .dataframe thead th {\n        text-align: right;\n    }\n</style>\n<table border=\"1\" class=\"dataframe\">\n  <thead>\n    <tr style=\"text-align: right;\">\n      <th></th>\n      <th>Exp_Name</th>\n      <th>Cell_Type</th>\n      <th>Tag</th>\n      <th>ID</th>\n      <th>Length</th>\n    </tr>\n  </thead>\n  <tbody>\n    <tr>\n      <th>2</th>\n      <td>AL_40_2020-02-27-TIRFM_Diff_tdt-mNSPCs_A_1</td>\n      <td>mNSPC</td>\n      <td>tdTomato</td>\n      <td>2</td>\n      <td>339</td>\n    </tr>\n    <tr>\n      <th>6</th>\n      <td>AL_40_2020-02-27-TIRFM_Diff_tdt-mNSPCs_A_1</td>\n      <td>mNSPC</td>\n      <td>tdTomato</td>\n      <td>6</td>\n      <td>334</td>\n    </tr>\n    <tr>\n      <th>9</th>\n      <td>AL_40_2020-02-27-TIRFM_Diff_tdt-mNSPCs_A_1</td>\n      <td>mNSPC</td>\n      <td>tdTomato</td>\n      <td>9</td>\n      <td>382</td>\n    </tr>\n    <tr>\n      <th>10</th>\n      <td>AL_40_2020-02-27-TIRFM_Diff_tdt-mNSPCs_A_1</td>\n      <td>mNSPC</td>\n      <td>tdTomato</td>\n      <td>10</td>\n      <td>214</td>\n    </tr>\n    <tr>\n      <th>12</th>\n      <td>AL_40_2020-02-27-TIRFM_Diff_tdt-mNSPCs_A_1</td>\n      <td>mNSPC</td>\n      <td>tdTomato</td>\n      <td>12</td>\n      <td>450</td>\n    </tr>\n    <tr>\n      <th>...</th>\n      <td>...</td>\n      <td>...</td>\n      <td>...</td>\n      <td>...</td>\n      <td>...</td>\n    </tr>\n    <tr>\n      <th>655</th>\n      <td>AL_44_2020-03-03-TIRFM_Diff_tdt-mNSPCs_C_15</td>\n      <td>mNSPC</td>\n      <td>tdTomato</td>\n      <td>655</td>\n      <td>338</td>\n    </tr>\n    <tr>\n      <th>656</th>\n      <td>AL_44_2020-03-03-TIRFM_Diff_tdt-mNSPCs_C_2</td>\n      <td>mNSPC</td>\n      <td>tdTomato</td>\n      <td>656</td>\n      <td>256</td>\n    </tr>\n    <tr>\n      <th>657</th>\n      <td>AL_44_2020-03-03-TIRFM_Diff_tdt-mNSPCs_C_2</td>\n      <td>mNSPC</td>\n      <td>tdTomato</td>\n      <td>657</td>\n      <td>332</td>\n    </tr>\n    <tr>\n      <th>660</th>\n      <td>AL_44_2020-03-03-TIRFM_Diff_tdt-mNSPCs_C_3</td>\n      <td>mNSPC</td>\n      <td>tdTomato</td>\n      <td>660</td>\n      <td>247</td>\n    </tr>\n    <tr>\n      <th>661</th>\n      <td>AL_44_2020-03-03-TIRFM_Diff_tdt-mNSPCs_C_3</td>\n      <td>mNSPC</td>\n      <td>tdTomato</td>\n      <td>661</td>\n      <td>236</td>\n    </tr>\n  </tbody>\n</table>\n<p>489 rows × 5 columns</p>\n</div>",
      "text/plain": "                                        Exp_Name Cell_Type       Tag   ID  \\\n2     AL_40_2020-02-27-TIRFM_Diff_tdt-mNSPCs_A_1     mNSPC  tdTomato    2   \n6     AL_40_2020-02-27-TIRFM_Diff_tdt-mNSPCs_A_1     mNSPC  tdTomato    6   \n9     AL_40_2020-02-27-TIRFM_Diff_tdt-mNSPCs_A_1     mNSPC  tdTomato    9   \n10    AL_40_2020-02-27-TIRFM_Diff_tdt-mNSPCs_A_1     mNSPC  tdTomato   10   \n12    AL_40_2020-02-27-TIRFM_Diff_tdt-mNSPCs_A_1     mNSPC  tdTomato   12   \n..                                           ...       ...       ...  ...   \n655  AL_44_2020-03-03-TIRFM_Diff_tdt-mNSPCs_C_15     mNSPC  tdTomato  655   \n656   AL_44_2020-03-03-TIRFM_Diff_tdt-mNSPCs_C_2     mNSPC  tdTomato  656   \n657   AL_44_2020-03-03-TIRFM_Diff_tdt-mNSPCs_C_2     mNSPC  tdTomato  657   \n660   AL_44_2020-03-03-TIRFM_Diff_tdt-mNSPCs_C_3     mNSPC  tdTomato  660   \n661   AL_44_2020-03-03-TIRFM_Diff_tdt-mNSPCs_C_3     mNSPC  tdTomato  661   \n\n     Length  \n2       339  \n6       334  \n9       382  \n10      214  \n12      450  \n..      ...  \n655     338  \n656     256  \n657     332  \n660     247  \n661     236  \n\n[489 rows x 5 columns]"
     },
     "execution_count": 76,
     "metadata": {},
     "output_type": "execute_result"
    }
   ],
   "source": [
    "tdT_MNSPC_trajLengths"
   ]
  },
  {
   "cell_type": "markdown",
   "metadata": {},
   "source": [
    "<h2> Step 3: Output the processed data </h2>"
   ]
  },
  {
   "cell_type": "code",
   "execution_count": 77,
   "metadata": {},
   "outputs": [],
   "source": [
    "# Combine data into a single dataframe\n",
    "combined_df = pd.concat([tdT_MNSPC_trajLengths, ht_NSC_trajLengths])"
   ]
  },
  {
   "cell_type": "code",
   "execution_count": 78,
   "metadata": {},
   "outputs": [],
   "source": [
    "# Output the data\n",
    "output_dir = '/home/vivek/Documents/Python Programs/Gabby-RIP-Talk-2021/'\n",
    "output_filename = 'Gabby_RIP_Talk_2021_data_tdT_v_ht_trajLengths.csv'\n",
    "combined_df.to_csv((Path(output_dir) / output_filename), sep=',', index=False)"
   ]
  },
  {
   "cell_type": "code",
   "execution_count": null,
   "metadata": {},
   "outputs": [],
   "source": []
  }
 ],
 "metadata": {
  "interpreter": {
   "hash": "af7554b14b9af04fc01fa457913d8e4704c7d6ea5fdefda6c9b4e9688b02ef9b"
  },
  "kernelspec": {
   "display_name": "Python 3.9.5 64-bit ('piezo1_ML': conda)",
   "name": "python3"
  },
  "language_info": {
   "codemirror_mode": {
    "name": "ipython",
    "version": 3
   },
   "file_extension": ".py",
   "mimetype": "text/x-python",
   "name": "python",
   "nbconvert_exporter": "python",
   "pygments_lexer": "ipython3",
   "version": "3.9.5"
  },
  "orig_nbformat": 2
 },
 "nbformat": 4,
 "nbformat_minor": 2
}