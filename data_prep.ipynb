{
 "cells": [
  {
   "cell_type": "markdown",
   "metadata": {},
   "source": [
    "# This notebook prepares the raw data for plotting.\n",
    "## First we load the data\n",
    "## Then we process the data\n",
    "## Finally we output the processed data as a .csv that can be uploaded to Github."
   ]
  },
  {
   "cell_type": "code",
   "execution_count": 1,
   "metadata": {},
   "outputs": [],
   "source": [
    "# Import libraries\n",
    "import flika_JSON_IO as flikaIO\n",
    "import numpy as np\n",
    "import pandas as pd\n",
    "\n",
    "from pathlib import Path"
   ]
  },
  {
   "cell_type": "code",
   "execution_count": 2,
   "metadata": {},
   "outputs": [],
   "source": [
    "# Configure display\n",
    "pd.set_option('display.max_colwidth', 75)"
   ]
  },
  {
   "cell_type": "markdown",
   "metadata": {},
   "source": [
    "<h2> Step 1: Load the data </h2>"
   ]
  },
  {
   "cell_type": "code",
   "execution_count": 3,
   "metadata": {},
   "outputs": [],
   "source": [
    "# Generate list of filepaths and filenames for tdTomato mNSPCs\n",
    "tdT_mNSPC_directory = '/home/vivek/Documents/Python Programs/Piezo1_Datasets/Gabby_RIP_Talk_2021_Datasets/Analyzed_tdT_mNSPC/'\n",
    "tdT_mNSPC_path_object = Path(tdT_mNSPC_directory).glob(\"*.json\")\n",
    "tdT_mNSPC_JSON_filepaths = sorted([x for x in tdT_mNSPC_path_object if x.is_file()])\n",
    "tdT_mNSPC_JSON_filenames = [x.stem for x in tdT_mNSPC_JSON_filepaths]\n",
    "# Generate data frame of trajectories\n",
    "tdT_mNSPC_trajs = flikaIO.json_to_pandas(tdT_mNSPC_JSON_filepaths, tdT_mNSPC_JSON_filenames, 200)\n",
    "tdT_mNSPC_trajs.Frame = tdT_mNSPC_trajs.Frame.astype('int')"
   ]
  },
  {
   "cell_type": "code",
   "execution_count": 4,
   "metadata": {},
   "outputs": [],
   "source": [
    "# Generate list of filepaths and filenames for halo tag NSC\n",
    "ht_NSC_directory = '/home/vivek/Documents/Python Programs/Piezo1_Datasets/Gabby_RIP_Talk_2021_Datasets/Analyzed_ht_NSC/'\n",
    "ht_NSC_path_object = Path(ht_NSC_directory).glob(\"*.json\")\n",
    "ht_NSC_JSON_filepaths = sorted([x for x in ht_NSC_path_object if x.is_file()])\n",
    "ht_NSC_JSON_filenames = [x.stem for x in ht_NSC_JSON_filepaths]\n",
    "# Generate data frame of trajectories\n",
    "ht_NSC_trajs = flikaIO.json_to_pandas(ht_NSC_JSON_filepaths, ht_NSC_JSON_filenames, 200)"
   ]
  },
  {
   "cell_type": "code",
   "execution_count": 5,
   "metadata": {},
   "outputs": [],
   "source": [
    "# Generate list of filepaths and filenames for tdTomato Kera\n",
    "tdT_Kera_directory = '/home/vivek/Documents/Python Programs/Piezo1_Datasets/Gabby_RIP_Talk_2021_Datasets/Analyzed_tdT_Kera/'\n",
    "tdT_Kera_path_object = Path(tdT_Kera_directory).glob(\"*.json\")\n",
    "tdT_Kera_JSON_filepaths = sorted([x for x in tdT_Kera_path_object if x.is_file()])\n",
    "tdT_Kera_JSON_filenames = [x.stem for x in tdT_Kera_JSON_filepaths]\n",
    "# Generate data frame of trajectories\n",
    "tdT_Kera_trajs = flikaIO.json_to_pandas(tdT_Kera_JSON_filepaths, tdT_Kera_JSON_filenames, 200)\n",
    "tdT_Kera_trajs.Frame = tdT_Kera_trajs.Frame.astype('int')"
   ]
  },
  {
   "cell_type": "code",
   "execution_count": 6,
   "metadata": {},
   "outputs": [],
   "source": [
    "# Generate list of filepaths and filenames for halo tag Kera\n",
    "ht_Kera_directory = '/home/vivek/Documents/Python Programs/Piezo1_Datasets/Gabby_RIP_Talk_2021_Datasets/Analyzed_ht_Kera/'\n",
    "ht_Kera_path_object = Path(ht_Kera_directory).glob(\"*.json\")\n",
    "ht_Kera_JSON_filepaths = sorted([x for x in ht_Kera_path_object if x.is_file()])\n",
    "ht_Kera_JSON_filenames = [x.stem for x in ht_Kera_JSON_filepaths]\n",
    "# Generate data frame of trajectories\n",
    "ht_Kera_trajs = flikaIO.json_to_pandas(ht_Kera_JSON_filepaths, ht_Kera_JSON_filenames, 200)"
   ]
  },
  {
   "cell_type": "markdown",
   "metadata": {},
   "source": [
    "<h2> Step 2: Process the data </h2>"
   ]
  },
  {
   "cell_type": "code",
   "execution_count": 11,
   "metadata": {},
   "outputs": [],
   "source": [
    "# Length of trajectories\n",
    "def traj_length(df):\n",
    "    lengths = []\n",
    "    exp_names = []\n",
    "    trackIDs = []\n",
    "    for eachID in df.ID.unique():\n",
    "        length = len(df.loc[df['ID'] == eachID])\n",
    "        lengths.append(length)\n",
    "        exp_name = str(df.loc[df['ID'] == eachID]['Exp_Name'].iloc[0])\n",
    "        exp_names.append(exp_name)\n",
    "        trackIDs.append(eachID)\n",
    "    df = pd.DataFrame({'Exp_Name':exp_names, 'ID':trackIDs, 'Length':lengths})\n",
    "    return df"
   ]
  },
  {
   "cell_type": "code",
   "execution_count": 12,
   "metadata": {},
   "outputs": [],
   "source": [
    "tdT_mNSPC_trajLengths = traj_length(tdT_mNSPC_trajs)\n",
    "tdT_mNSPC_trajLengths = tdT_mNSPC_trajLengths.loc[tdT_mNSPC_trajLengths['Length'] <= 580]\n",
    "tdT_mNSPC_trajLengths.insert(1, 'Tag', 'tdTomato')\n",
    "tdT_mNSPC_trajLengths.insert(1, 'Cell_Type', 'mNSPC')"
   ]
  },
  {
   "cell_type": "code",
   "execution_count": 13,
   "metadata": {},
   "outputs": [],
   "source": [
    "ht_NSC_trajLengths = traj_length(ht_NSC_trajs)\n",
    "ht_NSC_trajLengths = ht_NSC_trajLengths.loc[ht_NSC_trajLengths['Length'] <= 1180]\n",
    "ht_NSC_trajLengths.insert(1, 'Tag', 'Halo')\n",
    "ht_NSC_trajLengths.insert(1, 'Cell_Type', 'NSC')"
   ]
  },
  {
   "cell_type": "code",
   "execution_count": 14,
   "metadata": {},
   "outputs": [],
   "source": [
    "tdT_Kera_trajLengths = traj_length(tdT_Kera_trajs)\n",
    "tdT_Kera_trajLengths = tdT_Kera_trajLengths.loc[tdT_Kera_trajLengths['Length'] <= 580]\n",
    "tdT_Kera_trajLengths.insert(1, 'Tag', 'tdTomato')\n",
    "tdT_Kera_trajLengths.insert(1, 'Cell_Type', 'mKera')"
   ]
  },
  {
   "cell_type": "code",
   "execution_count": 24,
   "metadata": {},
   "outputs": [],
   "source": [
    "ID_list = sorted(ht_Kera_trajs.ID.unique())\n",
    "dfs = {}\n",
    "for i in range(10):\n",
    "    temp_df = ht_Kera_trajs.loc[ht_Kera_trajs['ID'].isin(ID_list[10000*(i):10000*(i+1)])]\n",
    "    dfs[i] = traj_length(temp_df)\n",
    "ht_Kera_trajLengths = pd.concat(dfs, axis=0).reset_index(drop=True)\n",
    "ht_Kera_trajLengths = ht_Kera_trajLengths.loc[ht_Kera_trajLengths['Length'] <= 1180]\n",
    "ht_Kera_trajLengths.insert(1, 'Tag', 'Halo')\n",
    "ht_Kera_trajLengths.insert(1, 'Cell_Type', 'Kera')"
   ]
  },
  {
   "cell_type": "markdown",
   "metadata": {},
   "source": [
    "<h2> Step 3: Output the processed data </h2>"
   ]
  },
  {
   "cell_type": "code",
   "execution_count": 26,
   "metadata": {},
   "outputs": [],
   "source": [
    "# Combine data into a single dataframe\n",
    "combined_stem_cell_df = pd.concat([tdT_mNSPC_trajLengths, ht_NSC_trajLengths])\n",
    "combined_kera_cell_df = pd.concat([tdT_Kera_trajLengths, ht_Kera_trajLengths])"
   ]
  },
  {
   "cell_type": "code",
   "execution_count": 27,
   "metadata": {},
   "outputs": [],
   "source": [
    "# Output the data\n",
    "output_dir = '/home/vivek/Documents/Python Programs/Gabby-RIP-Talk-2021/'\n",
    "stem_cell_output_filename = 'Gabby_RIP_Talk_2021_StemCell_data_tdT_v_ht_trajLengths.csv'\n",
    "kera_cell_output_filename = 'Gabby_RIP_Talk_2021_KeraCell_data_tdT_v_ht_trajLengths.csv'\n",
    "combined_stem_cell_df.to_csv((Path(output_dir) / stem_cell_output_filename), sep=',', index=False)\n",
    "combined_kera_cell_df.to_csv((Path(output_dir) / kera_cell_output_filename), sep=',', index=False)"
   ]
  },
  {
   "cell_type": "code",
   "execution_count": 29,
   "metadata": {},
   "outputs": [
    {
     "data": {
      "text/plain": "489"
     },
     "execution_count": 29,
     "metadata": {},
     "output_type": "execute_result"
    }
   ],
   "source": [
    "len(tdT_mNSPC_trajLengths.ID.unique())"
   ]
  },
  {
   "cell_type": "code",
   "execution_count": 30,
   "metadata": {},
   "outputs": [
    {
     "data": {
      "text/plain": "19708"
     },
     "execution_count": 30,
     "metadata": {},
     "output_type": "execute_result"
    }
   ],
   "source": [
    "len(ht_NSC_trajLengths.ID.unique())"
   ]
  },
  {
   "cell_type": "code",
   "execution_count": 31,
   "metadata": {},
   "outputs": [
    {
     "data": {
      "text/plain": "8213"
     },
     "execution_count": 31,
     "metadata": {},
     "output_type": "execute_result"
    }
   ],
   "source": [
    "len(tdT_Kera_trajLengths.ID.unique())"
   ]
  },
  {
   "cell_type": "code",
   "execution_count": 32,
   "metadata": {},
   "outputs": [
    {
     "data": {
      "text/plain": "88759"
     },
     "execution_count": 32,
     "metadata": {},
     "output_type": "execute_result"
    }
   ],
   "source": [
    "len(ht_Kera_trajLengths.ID.unique())"
   ]
  },
  {
   "cell_type": "code",
   "execution_count": null,
   "metadata": {},
   "outputs": [],
   "source": []
  }
 ],
 "metadata": {
  "interpreter": {
   "hash": "af7554b14b9af04fc01fa457913d8e4704c7d6ea5fdefda6c9b4e9688b02ef9b"
  },
  "kernelspec": {
   "display_name": "Python 3.9.5 64-bit ('piezo1_ML': conda)",
   "name": "python3"
  },
  "language_info": {
   "codemirror_mode": {
    "name": "ipython",
    "version": 3
   },
   "file_extension": ".py",
   "mimetype": "text/x-python",
   "name": "python",
   "nbconvert_exporter": "python",
   "pygments_lexer": "ipython3",
   "version": "3.9.5"
  },
  "orig_nbformat": 2
 },
 "nbformat": 4,
 "nbformat_minor": 2
}