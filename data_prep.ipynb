{
 "cells": [
  {
   "cell_type": "markdown",
   "metadata": {},
   "source": [
    "# This notebook prepares the raw data for plotting.\n",
    "## First we load the data\n",
    "## Then we process the data\n",
    "## Finally we output the processed data as a .csv that can be uploaded to Github."
   ]
  },
  {
   "cell_type": "code",
   "execution_count": 1,
   "metadata": {},
   "outputs": [],
   "source": [
    "# Import libraries\n",
    "import flika_JSON_IO as flikaIO\n",
    "import numpy as np\n",
    "import pandas as pd\n",
    "\n",
    "from pathlib import Path"
   ]
  },
  {
   "cell_type": "code",
   "execution_count": 9,
   "metadata": {},
   "outputs": [],
   "source": [
    "# Configure display\n",
    "pd.set_option('display.max_colwidth', 75)"
   ]
  },
  {
   "cell_type": "markdown",
   "metadata": {},
   "source": [
    "<h2> Step 1: Load the data </h2>"
   ]
  },
  {
   "cell_type": "code",
   "execution_count": 2,
   "metadata": {},
   "outputs": [],
   "source": [
    "# Generate list of filepaths and filenames for tdTomato mNSPCs\n",
    "tdT_mNSPC_directory = '/home/vivek/Documents/Python Programs/Piezo1_Datasets/Gabby_RIP_Talk_2021_Datasets/Analyzed_Tracks_tdt_mNSPC/AL_40_42_43_44_JSONs/'\n",
    "tdT_mNSPC_path_object = Path(tdT_mNSPC_directory).glob(\"*.json\")\n",
    "tdT_mNSPC_JSON_filepaths = sorted([x for x in tdT_mNSPC_path_object if x.is_file()])\n",
    "tdT_mNSPC_JSON_filenames = [x.stem for x in tdT_mNSPC_JSON_filepaths]\n",
    "# Generate data frame of trajectories\n",
    "tdT_mNSPC_trajs = flikaIO.json_to_pandas(tdT_mNSPC_JSON_filepaths, tdT_mNSPC_JSON_filenames, 200)\n",
    "tdT_mNSPC_trajs.Frame = tdT_mNSPC_trajs.Frame.astype('int')"
   ]
  },
  {
   "cell_type": "code",
   "execution_count": 3,
   "metadata": {},
   "outputs": [],
   "source": [
    "# Generate list of filepaths and filenames for halo tag NSC\n",
    "ht_NSC_directory = '/home/vivek/Documents/Python Programs/Piezo1_Datasets/Gabby_RIP_Talk_2021_Datasets/Analyzed_Tracks_ht_NSC/'\n",
    "ht_NSC_path_object = Path(ht_NSC_directory).glob(\"*.json\")\n",
    "ht_NSC_JSON_filepaths = sorted([x for x in ht_NSC_path_object if x.is_file()])\n",
    "ht_NSC_JSON_filenames = [x.stem for x in ht_NSC_JSON_filepaths]\n",
    "# Generate data frame of trajectories\n",
    "ht_NSC_trajs = flikaIO.json_to_pandas(ht_NSC_JSON_filepaths, ht_NSC_JSON_filenames, 200)"
   ]
  },
  {
   "cell_type": "markdown",
   "metadata": {},
   "source": [
    "<h2> Step 2: Process the data </h2>"
   ]
  },
  {
   "cell_type": "code",
   "execution_count": 74,
   "metadata": {},
   "outputs": [],
   "source": [
    "# Length of trajectories\n",
    "def traj_length(df):\n",
    "    lengths = []\n",
    "    exp_names = []\n",
    "    trackIDs = []\n",
    "    for eachID in df.ID.unique():\n",
    "        length = len(df.loc[df['ID'] == eachID])\n",
    "        lengths.append(length)\n",
    "        exp_name = str(df.loc[df['ID'] == eachID]['Exp_Name'].iloc[0])\n",
    "        exp_names.append(exp_name)\n",
    "        trackIDs.append(eachID)\n",
    "    df = pd.DataFrame({'Exp_Name':exp_names, 'ID':trackIDs, 'Length':lengths})\n",
    "    return df"
   ]
  },
  {
   "cell_type": "code",
   "execution_count": 75,
   "metadata": {},
   "outputs": [],
   "source": [
    "tdT_MNSPC_trajLengths = traj_length(tdT_mNSPC_trajs)\n",
    "tdT_MNSPC_trajLengths = tdT_MNSPC_trajLengths.loc[tdT_MNSPC_trajLengths['Length'] <= 580]\n",
    "tdT_MNSPC_trajLengths.insert(1, 'Tag', 'tdTomato')\n",
    "tdT_MNSPC_trajLengths.insert(1, 'Cell_Type', 'mNSPC')\n",
    "\n",
    "ht_NSC_trajLengths = traj_length(ht_NSC_trajs)\n",
    "ht_NSC_trajLengths = ht_NSC_trajLengths.loc[ht_NSC_trajLengths['Length'] <= 1180]\n",
    "ht_NSC_trajLengths.insert(1, 'Tag', 'Halo')\n",
    "ht_NSC_trajLengths.insert(1, 'Cell_Type', 'NSC')"
   ]
  },
  {
   "cell_type": "code",
   "execution_count": 76,
   "metadata": {},
   "outputs": [
    {
     "data": {
      "text/html": "<div>\n<style scoped>\n    .dataframe tbody tr th:only-of-type {\n        vertical-align: middle;\n    }\n\n    .dataframe tbody tr th {\n        vertical-align: top;\n    }\n\n    .dataframe thead th {\n        text-align: right;\n    }\n</style>\n<table border=\"1\" class=\"dataframe\">\n  <thead>\n    <tr style=\"text-align: right;\">\n      <th></th>\n      <th>Exp_Name</th>\n      <th>Cell_Type</th>\n      <th>Tag</th>\n      <th>ID</th>\n      <th>Length</th>\n    </tr>\n  </thead>\n  <tbody>\n    <tr>\n      <th>2</th>\n      <td>AL_40_2020-02-27-TIRFM_Diff_tdt-mNSPCs_A_1</td>\n      <td>mNSPC</td>\n      <td>tdTomato</td>\n      <td>2</td>\n      <td>339</td>\n    </tr>\n    <tr>\n      <th>6</th>\n      <td>AL_40_2020-02-27-TIRFM_Diff_tdt-mNSPCs_A_1</td>\n      <td>mNSPC</td>\n      <td>tdTomato</td>\n      <td>6</td>\n      <td>334</td>\n    </tr>\n    <tr>\n      <th>9</th>\n      <td>AL_40_2020-02-27-TIRFM_Diff_tdt-mNSPCs_A_1</td>\n      <td>mNSPC</td>\n      <td>tdTomato</td>\n      <td>9</td>\n      <td>382</td>\n    </tr>\n    <tr>\n      <th>10</th>\n      <td>AL_40_2020-02-27-TIRFM_Diff_tdt-mNSPCs_A_1</td>\n      <td>mNSPC</td>\n      <td>tdTomato</td>\n      <td>10</td>\n      <td>214</td>\n    </tr>\n    <tr>\n      <th>12</th>\n      <td>AL_40_2020-02-27-TIRFM_Diff_tdt-mNSPCs_A_1</td>\n      <td>mNSPC</td>\n      <td>tdTomato</td>\n      <td>12</td>\n      <td>450</td>\n    </tr>\n    <tr>\n      <th>...</th>\n      <td>...</td>\n      <td>...</td>\n      <td>...</td>\n      <td>...</td>\n      <td>...</td>\n    </tr>\n    <tr>\n      <th>655</th>\n      <td>AL_44_2020-03-03-TIRFM_Diff_tdt-mNSPCs_C_15</td>\n      <td>mNSPC</td>\n      <td>tdTomato</td>\n      <td>655</td>\n      <td>338</td>\n    </tr>\n    <tr>\n      <th>656</th>\n      <td>AL_44_2020-03-03-TIRFM_Diff_tdt-mNSPCs_C_2</td>\n      <td>mNSPC</td>\n      <td>tdTomato</td>\n      <td>656</td>\n      <td>256</td>\n    </tr>\n    <tr>\n      <th>657</th>\n      <td>AL_44_2020-03-03-TIRFM_Diff_tdt-mNSPCs_C_2</td>\n      <td>mNSPC</td>\n      <td>tdTomato</td>\n      <td>657</td>\n      <td>332</td>\n    </tr>\n    <tr>\n      <th>660</th>\n      <td>AL_44_2020-03-03-TIRFM_Diff_tdt-mNSPCs_C_3</td>\n      <td>mNSPC</td>\n      <td>tdTomato</td>\n      <td>660</td>\n      <td>247</td>\n    </tr>\n    <tr>\n      <th>661</th>\n      <td>AL_44_2020-03-03-TIRFM_Diff_tdt-mNSPCs_C_3</td>\n      <td>mNSPC</td>\n      <td>tdTomato</td>\n      <td>661</td>\n      <td>236</td>\n    </tr>\n  </tbody>\n</table>\n<p>489 rows × 5 columns</p>\n</div>",
      "text/plain": "                                        Exp_Name Cell_Type       Tag   ID  \\\n2     AL_40_2020-02-27-TIRFM_Diff_tdt-mNSPCs_A_1     mNSPC  tdTomato    2   \n6     AL_40_2020-02-27-TIRFM_Diff_tdt-mNSPCs_A_1     mNSPC  tdTomato    6   \n9     AL_40_2020-02-27-TIRFM_Diff_tdt-mNSPCs_A_1     mNSPC  tdTomato    9   \n10    AL_40_2020-02-27-TIRFM_Diff_tdt-mNSPCs_A_1     mNSPC  tdTomato   10   \n12    AL_40_2020-02-27-TIRFM_Diff_tdt-mNSPCs_A_1     mNSPC  tdTomato   12   \n..                                           ...       ...       ...  ...   \n655  AL_44_2020-03-03-TIRFM_Diff_tdt-mNSPCs_C_15     mNSPC  tdTomato  655   \n656   AL_44_2020-03-03-TIRFM_Diff_tdt-mNSPCs_C_2     mNSPC  tdTomato  656   \n657   AL_44_2020-03-03-TIRFM_Diff_tdt-mNSPCs_C_2     mNSPC  tdTomato  657   \n660   AL_44_2020-03-03-TIRFM_Diff_tdt-mNSPCs_C_3     mNSPC  tdTomato  660   \n661   AL_44_2020-03-03-TIRFM_Diff_tdt-mNSPCs_C_3     mNSPC  tdTomato  661   \n\n     Length  \n2       339  \n6       334  \n9       382  \n10      214  \n12      450  \n..      ...  \n655     338  \n656     256  \n657     332  \n660     247  \n661     236  \n\n[489 rows x 5 columns]"
     },
     "execution_count": 76,
     "metadata": {},
     "output_type": "execute_result"
    }
   ],
   "source": [
    "tdT_MNSPC_trajLengths"
   ]
  },
  {
   "cell_type": "markdown",
   "metadata": {},
   "source": [
    "<h2> Step 3: Output the processed data </h2>"
   ]
  },
  {
   "cell_type": "code",
   "execution_count": 77,
   "metadata": {},
   "outputs": [],
   "source": [
    "# Combine data into a single dataframe\n",
    "combined_df = pd.concat([tdT_MNSPC_trajLengths, ht_NSC_trajLengths])"
   ]
  },
  {
   "cell_type": "code",
   "execution_count": 78,
   "metadata": {},
   "outputs": [],
   "source": [
    "# Output the data\n",
    "output_dir = '/home/vivek/Documents/Python Programs/Gabby-RIP-Talk-2021/'\n",
    "output_filename = 'Gabby_RIP_Talk_2021_data_tdT_v_ht_trajLengths.csv'\n",
    "combined_df.to_csv((Path(output_dir) / output_filename), sep=',', index=False)"
   ]
  },
  {
   "cell_type": "code",
   "execution_count": null,
   "metadata": {},
   "outputs": [],
   "source": []
  }
 ],
 "metadata": {
  "interpreter": {
   "hash": "b587b21a5dd0b0df0e80eb09ba8b9ba5638e212bd758027fb8f22b48d7d6006b"
  },
  "kernelspec": {
   "display_name": "Python 3.9.2 64-bit ('piezo1_ML': conda)",
   "name": "python3"
  },
  "language_info": {
   "name": "python",
   "version": ""
  },
  "orig_nbformat": 2
 },
 "nbformat": 4,
 "nbformat_minor": 2
}